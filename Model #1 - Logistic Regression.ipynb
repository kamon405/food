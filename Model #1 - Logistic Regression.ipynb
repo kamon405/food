{
 "cells": [
  {
   "cell_type": "code",
   "execution_count": 1,
   "metadata": {
    "collapsed": true
   },
   "outputs": [],
   "source": [
    "%matplotlib inline\n",
    "import matplotlib.pyplot as plt\n",
    "import numpy as np\n",
    "import pandas as pd\n"
   ]
  },
  {
   "cell_type": "code",
   "execution_count": 2,
   "metadata": {
    "collapsed": true
   },
   "outputs": [],
   "source": [
    "\n",
    "\n",
    "d1 = pd.read_excel('population.xls')\n",
    "d2 = pd.read_excel('restaurant.xls')\n",
    "d3 = pd.read_excel('stores.xls')\n",
    "d4 = pd.read_excel('tax.xls')"
   ]
  },
  {
   "cell_type": "markdown",
   "metadata": {},
   "source": [
    "# Final Data Wrangling - Merging Clean Datasets"
   ]
  },
  {
   "cell_type": "code",
   "execution_count": null,
   "metadata": {
    "collapsed": true
   },
   "outputs": [],
   "source": [
    "result = pd.concat([d1, d4], axis=1, join_axes=[d1.index])"
   ]
  },
  {
   "cell_type": "code",
   "execution_count": null,
   "metadata": {
    "collapsed": true
   },
   "outputs": [],
   "source": [
    "result.head()"
   ]
  },
  {
   "cell_type": "code",
   "execution_count": null,
   "metadata": {
    "collapsed": true
   },
   "outputs": [],
   "source": [
    "result2 = pd.concat([d2, d3], axis=1, join_axes=[d2.index])"
   ]
  },
  {
   "cell_type": "code",
   "execution_count": null,
   "metadata": {
    "collapsed": true
   },
   "outputs": [],
   "source": [
    "result2.head()"
   ]
  },
  {
   "cell_type": "code",
   "execution_count": null,
   "metadata": {
    "collapsed": true
   },
   "outputs": [],
   "source": [
    "final = pd.concat([result, result2], axis=1, join_axes=[result.index])"
   ]
  },
  {
   "cell_type": "code",
   "execution_count": null,
   "metadata": {
    "collapsed": true
   },
   "outputs": [],
   "source": [
    "final.head()"
   ]
  },
  {
   "cell_type": "code",
   "execution_count": null,
   "metadata": {
    "collapsed": true
   },
   "outputs": [],
   "source": [
    "final.to_excel('final.xls', index=False)"
   ]
  },
  {
   "cell_type": "markdown",
   "metadata": {},
   "source": [
    "# Modeling Starts Here"
   ]
  },
  {
   "cell_type": "code",
   "execution_count": 41,
   "metadata": {
    "collapsed": true
   },
   "outputs": [],
   "source": [
    "test=pd.read_excel('final.xls', index_col=0, na_values=['(NA)']).fillna(0)\n"
   ]
  },
  {
   "cell_type": "code",
   "execution_count": 42,
   "metadata": {},
   "outputs": [
    {
     "data": {
      "text/plain": [
       "County                                        object\n",
       "2010 Census Population                        object\n",
       "Population Estimate, 2014                     object\n",
       "Food & Retail Tax 2014                       float64\n",
       "Fast Food 2009                                 int64\n",
       "Fast Food 2014                                 int64\n",
       "Fast Food % Change 09-14                     float64\n",
       "Full Service 2009                              int64\n",
       "Full Service 2014                              int64\n",
       "Full Service % Change 09-14                  float64\n",
       "Grocery Store 09                               int64\n",
       "Grocery Store 2014                             int64\n",
       "Grocery Store % Change 09-14                 float64\n",
       "Supercenters & Club Stores 2009                int64\n",
       "Supercenters & Club Stores 2014                int64\n",
       "Supercenters & Club Stores % Change 09-14    float64\n",
       "Convenience Stores 2009                        int64\n",
       "Convenience Stores 2014                        int64\n",
       "Convenience Stores % Change 09-14            float64\n",
       "Specialized Food Stores 2009                   int64\n",
       "Specialized Food Stores 2014                   int64\n",
       "Specialized Food Stores % Change 09-14       float64\n",
       "dtype: object"
      ]
     },
     "execution_count": 42,
     "metadata": {},
     "output_type": "execute_result"
    }
   ],
   "source": [
    "test.dtypes"
   ]
  },
  {
   "cell_type": "code",
   "execution_count": null,
   "metadata": {
    "collapsed": true
   },
   "outputs": [],
   "source": []
  },
  {
   "cell_type": "code",
   "execution_count": 37,
   "metadata": {},
   "outputs": [
    {
     "name": "stderr",
     "output_type": "stream",
     "text": [
      "C:\\Users\\kdsing2\\Anaconda3\\lib\\site-packages\\sklearn\\utils\\validation.py:526: DataConversionWarning: A column-vector y was passed when a 1d array was expected. Please change the shape of y to (n_samples, ), for example using ravel().\n",
      "  y = column_or_1d(y, warn=True)\n"
     ]
    }
   ],
   "source": [
    "from sklearn.linear_model import LogisticRegression\n",
    "logreg = LogisticRegression(C=1e9)\n",
    "feature_cols = ['Fast Food 2009']\n",
    "feature_cols2 = ['Grocery Store 09']\n",
    "X = test[feature_cols]\n",
    "y = test[feature_cols2]\n",
    "logreg.fit(X, y)\n",
    "assorted_pred_class = logreg.predict(X)"
   ]
  },
  {
   "cell_type": "code",
   "execution_count": 13,
   "metadata": {},
   "outputs": [
    {
     "data": {
      "text/plain": [
       "(3142, 23)"
      ]
     },
     "execution_count": 13,
     "metadata": {},
     "output_type": "execute_result"
    }
   ],
   "source": [
    "test.shape"
   ]
  },
  {
   "cell_type": "code",
   "execution_count": 30,
   "metadata": {},
   "outputs": [
    {
     "data": {
      "text/plain": [
       "array([ 5, 10,  4, ...,  3,  3,  2], dtype=int64)"
      ]
     },
     "execution_count": 30,
     "metadata": {},
     "output_type": "execute_result"
    }
   ],
   "source": [
    "assorted_pred_class"
   ]
  },
  {
   "cell_type": "code",
   "execution_count": 31,
   "metadata": {
    "collapsed": true
   },
   "outputs": [],
   "source": [
    "test['assorted_pred_class'] = assorted_pred_class"
   ]
  },
  {
   "cell_type": "code",
   "execution_count": 38,
   "metadata": {},
   "outputs": [
    {
     "data": {
      "image/png": "[encoded data removed]",
      "text/plain": [
       "<matplotlib.figure.Figure at 0x2354d4c3da0>"
      ]
     },
     "metadata": {},
     "output_type": "display_data"
    }
   ],
   "source": [
    "plt.scatter(test[feature_cols], test[feature_cols2])\n",
    "plt.plot(test[feature_cols], test.assorted_pred_class, color='green');"
   ]
  },
  {
   "cell_type": "code",
   "execution_count": 20,
   "metadata": {},
   "outputs": [
    {
     "name": "stderr",
     "output_type": "stream",
     "text": [
      "C:\\Users\\kdsing2\\Anaconda3\\lib\\site-packages\\sklearn\\linear_model\\base.py:352: RuntimeWarning: overflow encountered in exp\n",
      "  np.exp(prob, prob)\n"
     ]
    },
    {
     "data": {
      "text/plain": [
       "array([[  4.25078732e-20,   9.07810507e-09,   6.93630356e-06, ...,\n",
       "          2.93919125e-04,   2.07014549e-04,   3.95803338e-09],\n",
       "       [  4.67470767e-74,   9.14353349e-31,   3.41903251e-19, ...,\n",
       "          4.93814932e-04,   3.52049991e-04,   8.17459794e-09],\n",
       "       [  3.27500931e-14,   2.17135861e-06,   1.84530230e-04, ...,\n",
       "          2.55823800e-04,   1.79943381e-04,   3.36785122e-09],\n",
       "       ..., \n",
       "       [  7.97208736e-17,   1.91516202e-07,   4.31987183e-05, ...,\n",
       "          2.73794632e-04,   1.92697815e-04,   3.64091097e-09],\n",
       "       [  2.64927710e-10,   8.05282381e-05,   1.58120377e-03, ...,\n",
       "          2.24475569e-04,   1.57753359e-04,   2.91085965e-09],\n",
       "       [  8.77704523e-06,   4.96086322e-03,   1.74480728e-02, ...,\n",
       "          1.76167612e-04,   1.23676156e-04,   2.24452888e-09]])"
      ]
     },
     "execution_count": 20,
     "metadata": {},
     "output_type": "execute_result"
    }
   ],
   "source": [
    "logreg.predict_proba(X)"
   ]
  },
  {
   "cell_type": "code",
   "execution_count": 39,
   "metadata": {},
   "outputs": [
    {
     "name": "stderr",
     "output_type": "stream",
     "text": [
      "C:\\Users\\kdsing2\\Anaconda3\\lib\\site-packages\\sklearn\\linear_model\\base.py:352: RuntimeWarning: overflow encountered in exp\n",
      "  np.exp(prob, prob)\n"
     ]
    }
   ],
   "source": [
    "assorted_pred_prob = logreg.predict_proba(X)[:, 1]\n",
    "test['assorted_pred_prob'] = assorted_pred_prob \n"
   ]
  },
  {
   "cell_type": "code",
   "execution_count": null,
   "metadata": {
    "collapsed": true
   },
   "outputs": [],
   "source": []
  },
  {
   "cell_type": "code",
   "execution_count": 40,
   "metadata": {},
   "outputs": [
    {
     "data": {
      "image/png": "[encoded data removed]",
      "text/plain": [
       "<matplotlib.figure.Figure at 0x2354b2d4710>"
      ]
     },
     "metadata": {},
     "output_type": "display_data"
    }
   ],
   "source": [
    "plt.scatter(test[feature_cols], test[feature_cols2])\n",
    "plt.plot(test[feature_cols], test.assorted_pred_prob, color='red');"
   ]
  },
  {
   "cell_type": "code",
   "execution_count": 28,
   "metadata": {},
   "outputs": [
    {
     "name": "stdout",
     "output_type": "stream",
     "text": [
      "[[  1.25945457e-01   1.31498610e-01   9.43939494e-02   6.86142853e-02\n",
      "    6.51194668e-02   5.33905641e-02   4.10069569e-02   3.35531573e-02\n",
      "    2.81589045e-02   2.32904433e-02   2.29065721e-02   1.59232555e-02\n",
      "    1.34176196e-02   1.15752081e-02   1.03365045e-02   1.08397999e-02\n",
      "    9.57524298e-03   1.00422824e-02   9.51012645e-03   1.15150695e-02\n",
      "    7.52269018e-03   6.64420960e-03   6.71755013e-03   7.69019001e-03\n",
      "    5.37941659e-03   4.48211147e-03   5.25877717e-03   6.16420617e-03\n",
      "    4.84203407e-03   3.47035297e-03   3.73582636e-03   3.59413386e-03\n",
      "    3.54441924e-03   3.54918432e-03   4.11070940e-03   2.78965563e-03\n",
      "    2.76821456e-03   1.95080266e-03   2.75784608e-03   2.72416144e-03\n",
      "    2.08888430e-03   1.75223408e-03   2.24163923e-03   2.03046424e-03\n",
      "    1.09385005e-03   9.58307131e-04   1.70980066e-03   1.54784525e-03\n",
      "    1.24442571e-03   1.69779894e-03   1.53695701e-03   9.30075224e-04\n",
      "    1.06189735e-03   1.97398060e-03   1.83895795e-03   1.21842124e-03\n",
      "    3.00887964e-04   1.06632508e-03   8.97376987e-04   8.97924584e-04\n",
      "    6.01768924e-04   1.05940416e-03   1.48316578e-03   1.49510515e-03\n",
      "    1.33647614e-03   2.95424443e-04   8.89581311e-04   4.53455789e-04\n",
      "    7.35073847e-04   5.87342541e-04   1.03370700e-03   1.48528177e-03\n",
      "    8.84240893e-04   7.36282440e-04   8.79994087e-04   1.17111928e-03\n",
      "    1.02703983e-03   1.17294264e-03   1.31951361e-03   7.32540434e-04\n",
      "    7.30559733e-04   1.01982534e-03   8.74226872e-04   5.82743173e-04\n",
      "    4.39271369e-04   8.73270851e-04   2.93815594e-04   5.81033807e-04\n",
      "    8.73053087e-04   1.45173207e-04   2.91736162e-04   4.35620501e-04\n",
      "    8.68875273e-04   4.34448073e-04   5.79382967e-04   2.91369014e-04\n",
      "    7.22412066e-04   1.44402605e-03   2.91058812e-04   1.29813278e-03\n",
      "    2.88647241e-04   4.34382226e-04   4.30762713e-04   4.31679818e-04\n",
      "    7.20339845e-04   5.76747679e-04   5.76071516e-04   1.43147512e-04\n",
      "    2.86351187e-04   8.64665569e-04   5.75732165e-04   5.76559981e-04\n",
      "    1.42976148e-04   5.73518886e-04   2.86897276e-04   5.72352016e-04\n",
      "    8.61742526e-04   2.87686352e-04   2.85317633e-04   7.17572530e-04\n",
      "    4.30086258e-04   2.85934549e-04   2.85382299e-04   4.29267977e-04\n",
      "    7.14522474e-04   4.28609701e-04   2.86161585e-04   2.85120681e-04\n",
      "    2.85382299e-04   5.73399398e-04   1.43799269e-04   4.28210220e-04\n",
      "    1.43147512e-04   2.84265650e-04   2.85120681e-04   1.42387707e-04\n",
      "    2.83683040e-04   2.85222648e-04   1.42543903e-04   8.50253214e-04\n",
      "    2.83350928e-04   1.41813284e-04   5.66294309e-04   1.42387707e-04\n",
      "    1.43147512e-04   4.25521868e-04   1.41363594e-04   4.25865716e-04\n",
      "    4.25850312e-04   4.22669964e-04   2.83350928e-04   2.82878143e-04\n",
      "    1.41440367e-04   1.41040007e-04   5.65708923e-04   2.82281938e-04\n",
      "    4.26014764e-04   1.41519246e-04   2.83416214e-04   1.41260242e-04\n",
      "    2.81937639e-04   1.41402367e-04   1.40096456e-04   1.39927537e-04\n",
      "    4.22092445e-04   2.82535043e-04   1.41798652e-04   1.40192160e-04\n",
      "    2.81447462e-04   5.60553199e-04   1.39558628e-04   7.01375543e-04\n",
      "    1.39927537e-04   4.22650524e-04   1.40787984e-04   2.80661554e-04\n",
      "    1.40787984e-04   1.40671488e-04   2.81450603e-04   1.39513193e-04\n",
      "    1.40505647e-04   4.19653707e-04   2.80388524e-04   2.79125731e-04\n",
      "    1.39196307e-04   2.80003863e-04   1.39576895e-04   2.79827073e-04\n",
      "    1.40467731e-04   1.40177680e-04   1.38820956e-04   4.19936016e-04\n",
      "    2.79348489e-04   1.38658727e-04   1.39927537e-04   1.40534442e-04\n",
      "    1.38593622e-04   2.78196326e-04   1.39239239e-04   1.39239239e-04\n",
      "    1.40096456e-04   1.38365036e-04   2.77002432e-04   1.38522656e-04\n",
      "    1.38820956e-04   2.78575819e-04   1.37985149e-04   4.15719441e-04\n",
      "    1.38658727e-04   2.76178640e-04   1.37665387e-04   1.38620909e-04\n",
      "    1.38135593e-04   2.76190213e-04   1.38658727e-04   1.38019938e-04\n",
      "    1.37985149e-04   2.75624013e-04   1.37673460e-04   5.50586990e-04\n",
      "    1.37673460e-04   1.37954185e-04   2.73800364e-04   1.38019938e-04\n",
      "    1.36360144e-04   2.73650763e-04   1.37826733e-04   1.37384543e-04\n",
      "    2.75053519e-04   2.74260829e-04   1.37350890e-04   1.36831331e-04\n",
      "    2.73915302e-04   2.75064700e-04   2.74792829e-04   1.36291139e-04\n",
      "    4.11356398e-04   1.35684195e-04   2.74493820e-04   4.10592300e-04\n",
      "    1.36259333e-04   1.36737244e-04   1.36187416e-04   1.35403582e-04\n",
      "    2.72714850e-04   1.36187416e-04   1.35536657e-04   1.35225582e-04\n",
      "    4.07179312e-04   2.71230134e-04   1.35225582e-04   1.35168343e-04\n",
      "    2.69492954e-04   1.35630239e-04   1.36101873e-04   1.35117193e-04\n",
      "    1.35679870e-04   1.34315710e-04   1.34441884e-04   2.70069577e-04\n",
      "    1.34398575e-04   1.34312553e-04   1.34832200e-04   1.34730984e-04\n",
      "    1.35486209e-04   1.33744687e-04   1.34348123e-04   2.67533784e-04\n",
      "    1.33822068e-04   1.33501472e-04   1.34023797e-04   1.34460569e-04\n",
      "    1.33725304e-04   1.33461016e-04   2.67401400e-04   1.35370671e-04\n",
      "    1.33614602e-04   1.33614602e-04   1.32502144e-04   1.33194329e-04\n",
      "    1.32128777e-04   1.32581720e-04   1.32224842e-04   1.33675529e-04\n",
      "    1.32754511e-04   2.64823321e-04   1.30783744e-04   1.33725304e-04\n",
      "    1.31617129e-04   1.31578356e-04   1.30242054e-04   1.30610014e-04\n",
      "    1.29968025e-04   2.60902916e-04   2.61324363e-04   1.30878920e-04\n",
      "    1.30683473e-04   1.29667454e-04   1.30783744e-04   2.61354341e-04\n",
      "    1.29912588e-04   2.59987727e-04   1.30192024e-04   1.30912917e-04\n",
      "    1.30036877e-04   1.28620987e-04   1.29305250e-04   1.28859828e-04\n",
      "    1.29004433e-04   1.28913089e-04   1.28237526e-04   1.29646507e-04\n",
      "    1.28989875e-04   1.28164027e-04   1.28034951e-04   1.30272382e-04\n",
      "    1.27296799e-04   1.27918312e-04   1.27432314e-04   2.54453862e-04\n",
      "    1.27386195e-04   2.51838689e-04   1.29520811e-04   1.27296799e-04\n",
      "    1.27022038e-04   1.25517719e-04   1.26033618e-04   1.26369666e-04\n",
      "    1.25384653e-04   1.23496526e-04   2.50078510e-04   1.25175981e-04\n",
      "    1.25235042e-04   1.23656348e-04   1.25120203e-04   1.23243195e-04\n",
      "    1.24004366e-04   1.23744876e-04   1.22273344e-04   1.20907419e-04\n",
      "    1.24568085e-04   1.23946698e-04   1.22833346e-04   1.21511803e-04\n",
      "    1.21275973e-04   1.20533828e-04   1.20224274e-04   1.18534295e-04\n",
      "    1.18007266e-04   1.20189259e-04   1.17885434e-04   1.17934058e-04\n",
      "    1.14573204e-04   1.14830733e-04   1.17672748e-04   1.14422279e-04\n",
      "    1.17015076e-04   1.14191388e-04   1.12668169e-04   2.24262935e-04\n",
      "    1.13215230e-04   1.09769410e-04   1.06374834e-04   1.04676596e-04\n",
      "    1.06358442e-04   1.05677101e-04   1.00987288e-04   9.24629528e-05\n",
      "    9.06308253e-05   8.38239377e-05   8.66505155e-05   8.22470600e-05\n",
      "    5.76807193e-05   1.02959509e-09]]\n"
     ]
    }
   ],
   "source": [
    "print (logreg.predict_proba(1))"
   ]
  },
  {
   "cell_type": "code",
   "execution_count": null,
   "metadata": {
    "collapsed": true
   },
   "outputs": [],
   "source": []
  },
  {
   "cell_type": "code",
   "execution_count": null,
   "metadata": {
    "collapsed": true
   },
   "outputs": [],
   "source": []
  },
  {
   "cell_type": "code",
   "execution_count": null,
   "metadata": {
    "collapsed": true
   },
   "outputs": [],
   "source": []
  },
  {
   "cell_type": "code",
   "execution_count": null,
   "metadata": {
    "collapsed": true
   },
   "outputs": [],
   "source": []
  },
  {
   "cell_type": "code",
   "execution_count": null,
   "metadata": {
    "collapsed": true
   },
   "outputs": [],
   "source": []
  },
  {
   "cell_type": "code",
   "execution_count": null,
   "metadata": {
    "collapsed": true
   },
   "outputs": [],
   "source": []
  },
  {
   "cell_type": "code",
   "execution_count": null,
   "metadata": {
    "collapsed": true
   },
   "outputs": [],
   "source": []
  },
  {
   "cell_type": "code",
   "execution_count": null,
   "metadata": {
    "collapsed": true
   },
   "outputs": [],
   "source": []
  },
  {
   "cell_type": "code",
   "execution_count": null,
   "metadata": {
    "collapsed": true
   },
   "outputs": [],
   "source": []
  },
  {
   "cell_type": "code",
   "execution_count": null,
   "metadata": {
    "collapsed": true
   },
   "outputs": [],
   "source": []
  },
  {
   "cell_type": "code",
   "execution_count": null,
   "metadata": {
    "collapsed": true
   },
   "outputs": [],
   "source": []
  },
  {
   "cell_type": "code",
   "execution_count": null,
   "metadata": {
    "collapsed": true
   },
   "outputs": [],
   "source": []
  }
 ],
 "metadata": {
  "kernelspec": {
   "display_name": "Python 3",
   "language": "python",
   "name": "python3"
  },
  "language_info": {
   "codemirror_mode": {
    "name": "ipython",
    "version": 3
   },
   "file_extension": ".py",
   "mimetype": "text/x-python",
   "name": "python",
   "nbconvert_exporter": "python",
   "pygments_lexer": "ipython3",
   "version": "3.6.1"
  }
 },
 "nbformat": 4,
 "nbformat_minor": 2
}
