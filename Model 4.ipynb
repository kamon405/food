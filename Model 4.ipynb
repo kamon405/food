{
 "cells": [
  {
   "cell_type": "code",
   "execution_count": 1,
   "metadata": {
    "collapsed": true
   },
   "outputs": [],
   "source": [
    "%matplotlib inline\n",
    "import matplotlib.pyplot as plt\n",
    "import numpy as np\n",
    "import pandas as pd\n",
    "from scipy.spatial.distance import cdist\n",
    "import seaborn as sns\n",
    "sns.set()"
   ]
  },
  {
   "cell_type": "code",
   "execution_count": null,
   "metadata": {
    "collapsed": true
   },
   "outputs": [],
   "source": []
  },
  {
   "cell_type": "code",
   "execution_count": 2,
   "metadata": {
    "collapsed": true
   },
   "outputs": [],
   "source": [
    "from sklearn.cluster import DBSCAN\n",
    "import pandas as pd\n",
    "\n",
    "d1 = pd.read_excel('final1.xls')\n"
   ]
  },
  {
   "cell_type": "code",
   "execution_count": 3,
   "metadata": {},
   "outputs": [],
   "source": [
    "d1.rename(columns={'Grocery Store % Change 09-14': 'Grocery', 'Convenience Stores % Change 09-14': 'Convenience'}, inplace=True)"
   ]
  },
  {
   "cell_type": "code",
   "execution_count": 4,
   "metadata": {},
   "outputs": [
    {
     "data": {
      "text/plain": [
       "State                                         object\n",
       "County                                        object\n",
       "2010 Census Population                        object\n",
       "Population Estimate, 2014                     object\n",
       "Food & Retail Tax 2014                       float64\n",
       "Fast Food 2009                                 int64\n",
       "Fast Food 2014                                 int64\n",
       "Fast Food % Change 09-14                     float64\n",
       "Full Service 2009                              int64\n",
       "Full Service 2014                              int64\n",
       "Full Service % Change 09-14                  float64\n",
       "Grocery Store 09                               int64\n",
       "Grocery Store 2014                             int64\n",
       "Grocery                                      float64\n",
       "Supercenters & Club Stores 2009                int64\n",
       "Supercenters & Club Stores 2014                int64\n",
       "Supercenters & Club Stores % Change 09-14    float64\n",
       "Convenience Stores 2009                        int64\n",
       "Convenience Stores 2014                        int64\n",
       "Convenience                                  float64\n",
       "Specialized Food Stores 2009                   int64\n",
       "Specialized Food Stores 2014                   int64\n",
       "Specialized Food Stores % Change 09-14       float64\n",
       "dtype: object"
      ]
     },
     "execution_count": 4,
     "metadata": {},
     "output_type": "execute_result"
    }
   ],
   "source": [
    "d1.dtypes"
   ]
  },
  {
   "cell_type": "code",
   "execution_count": null,
   "metadata": {
    "collapsed": true
   },
   "outputs": [],
   "source": []
  },
  {
   "cell_type": "code",
   "execution_count": 5,
   "metadata": {},
   "outputs": [],
   "source": [
    "d1_selected = d1[[\"Convenience\", \"Grocery\"]]\n"
   ]
  },
  {
   "cell_type": "code",
   "execution_count": 6,
   "metadata": {},
   "outputs": [
    {
     "data": {
      "text/html": [
       "<div>\n",
       "<style>\n",
       "    .dataframe thead tr:only-child th {\n",
       "        text-align: right;\n",
       "    }\n",
       "\n",
       "    .dataframe thead th {\n",
       "        text-align: left;\n",
       "    }\n",
       "\n",
       "    .dataframe tbody tr th {\n",
       "        vertical-align: top;\n",
       "    }\n",
       "</style>\n",
       "<table border=\"1\" class=\"dataframe\">\n",
       "  <thead>\n",
       "    <tr style=\"text-align: right;\">\n",
       "      <th></th>\n",
       "      <th>Convenience</th>\n",
       "      <th>Grocery</th>\n",
       "    </tr>\n",
       "  </thead>\n",
       "  <tbody>\n",
       "    <tr>\n",
       "      <th>0</th>\n",
       "      <td>3.448276</td>\n",
       "      <td>-33.333333</td>\n",
       "    </tr>\n",
       "    <tr>\n",
       "      <th>1</th>\n",
       "      <td>-0.840336</td>\n",
       "      <td>20.833333</td>\n",
       "    </tr>\n",
       "    <tr>\n",
       "      <th>2</th>\n",
       "      <td>35.714286</td>\n",
       "      <td>0.000000</td>\n",
       "    </tr>\n",
       "    <tr>\n",
       "      <th>3</th>\n",
       "      <td>-21.052632</td>\n",
       "      <td>-16.666667</td>\n",
       "    </tr>\n",
       "    <tr>\n",
       "      <th>4</th>\n",
       "      <td>-12.903226</td>\n",
       "      <td>0.000000</td>\n",
       "    </tr>\n",
       "    <tr>\n",
       "      <th>5</th>\n",
       "      <td>50.000000</td>\n",
       "      <td>0.000000</td>\n",
       "    </tr>\n",
       "    <tr>\n",
       "      <th>6</th>\n",
       "      <td>-12.500000</td>\n",
       "      <td>0.000000</td>\n",
       "    </tr>\n",
       "    <tr>\n",
       "      <th>7</th>\n",
       "      <td>-15.909091</td>\n",
       "      <td>8.000000</td>\n",
       "    </tr>\n",
       "    <tr>\n",
       "      <th>8</th>\n",
       "      <td>4.545455</td>\n",
       "      <td>0.000000</td>\n",
       "    </tr>\n",
       "    <tr>\n",
       "      <th>9</th>\n",
       "      <td>28.571429</td>\n",
       "      <td>25.000000</td>\n",
       "    </tr>\n",
       "  </tbody>\n",
       "</table>\n",
       "</div>"
      ],
      "text/plain": [
       "   Convenience    Grocery\n",
       "0     3.448276 -33.333333\n",
       "1    -0.840336  20.833333\n",
       "2    35.714286   0.000000\n",
       "3   -21.052632 -16.666667\n",
       "4   -12.903226   0.000000\n",
       "5    50.000000   0.000000\n",
       "6   -12.500000   0.000000\n",
       "7   -15.909091   8.000000\n",
       "8     4.545455   0.000000\n",
       "9    28.571429  25.000000"
      ]
     },
     "execution_count": 6,
     "metadata": {},
     "output_type": "execute_result"
    }
   ],
   "source": [
    "d1_selected[:10]"
   ]
  },
  {
   "cell_type": "code",
   "execution_count": 7,
   "metadata": {
    "collapsed": true
   },
   "outputs": [],
   "source": [
    "from sklearn.preprocessing import StandardScaler\n",
    "\n",
    "stdscaler = StandardScaler().fit(d1_selected)\n",
    "d1_transformed = stdscaler.transform(d1_selected)"
   ]
  },
  {
   "cell_type": "code",
   "execution_count": 8,
   "metadata": {},
   "outputs": [
    {
     "data": {
      "image/png": "[encoded data removed]",
      "text/plain": [
       "<matplotlib.figure.Figure at 0x1e3227fc438>"
      ]
     },
     "metadata": {},
     "output_type": "display_data"
    }
   ],
   "source": [
    "plt.scatter(d1_transformed[:,0], d1_transformed[:,1])\n",
    "plt.xlabel(\"Grocery\")\n",
    "plt.ylabel(\"Convenience\")\n",
    "plt.title(\"Grocery Store % Change compared to Convenience Stores\")\n",
    "plt.savefig(\"food4.png\", format = \"PNG\")"
   ]
  },
  {
   "cell_type": "code",
   "execution_count": 9,
   "metadata": {
    "collapsed": true
   },
   "outputs": [],
   "source": [
    "dbsc = DBSCAN(eps = .5, min_samples = 15).fit(d1_transformed)"
   ]
  },
  {
   "cell_type": "code",
   "execution_count": 10,
   "metadata": {
    "collapsed": true
   },
   "outputs": [],
   "source": [
    "labels = dbsc.labels_\n",
    "\n",
    "core_samples = np.zeros_like(labels, dtype = bool)"
   ]
  },
  {
   "cell_type": "code",
   "execution_count": 11,
   "metadata": {},
   "outputs": [
    {
     "data": {
      "text/plain": [
       "array([-1,  0], dtype=int64)"
      ]
     },
     "execution_count": 11,
     "metadata": {},
     "output_type": "execute_result"
    }
   ],
   "source": [
    "unique_labels = np.unique(labels)\n",
    "unique_labels"
   ]
  },
  {
   "cell_type": "code",
   "execution_count": null,
   "metadata": {
    "scrolled": true
   },
   "outputs": [],
   "source": []
  },
  {
   "cell_type": "code",
   "execution_count": 12,
   "metadata": {
    "scrolled": true
   },
   "outputs": [],
   "source": [
    "d1['cluster'] = labels\n",
    "d1.sort_values('cluster')\n",
    "centers = d1.groupby('cluster').mean()"
   ]
  },
  {
   "cell_type": "code",
   "execution_count": 13,
   "metadata": {},
   "outputs": [
    {
     "data": {
      "text/plain": [
       "State                                         object\n",
       "County                                        object\n",
       "2010 Census Population                        object\n",
       "Population Estimate, 2014                     object\n",
       "Food & Retail Tax 2014                       float64\n",
       "Fast Food 2009                                 int64\n",
       "Fast Food 2014                                 int64\n",
       "Fast Food % Change 09-14                     float64\n",
       "Full Service 2009                              int64\n",
       "Full Service 2014                              int64\n",
       "Full Service % Change 09-14                  float64\n",
       "Grocery Store 09                               int64\n",
       "Grocery Store 2014                             int64\n",
       "Grocery                                      float64\n",
       "Supercenters & Club Stores 2009                int64\n",
       "Supercenters & Club Stores 2014                int64\n",
       "Supercenters & Club Stores % Change 09-14    float64\n",
       "Convenience Stores 2009                        int64\n",
       "Convenience Stores 2014                        int64\n",
       "Convenience                                  float64\n",
       "Specialized Food Stores 2009                   int64\n",
       "Specialized Food Stores 2014                   int64\n",
       "Specialized Food Stores % Change 09-14       float64\n",
       "cluster                                        int64\n",
       "dtype: object"
      ]
     },
     "execution_count": 13,
     "metadata": {},
     "output_type": "execute_result"
    }
   ],
   "source": [
    "d1.dtypes"
   ]
  },
  {
   "cell_type": "code",
   "execution_count": 19,
   "metadata": {},
   "outputs": [
    {
     "data": {
      "image/png": "[encoded data removed]",
      "text/plain": [
       "<matplotlib.figure.Figure at 0x1e322d858d0>"
      ]
     },
     "metadata": {},
     "output_type": "display_data"
    }
   ],
   "source": [
    "import numpy as np\n",
    "colors = np.array(['red', 'green', 'blue'])\n",
    "\n",
    "import matplotlib.pyplot as plt\n",
    "plt.scatter(d1.Grocery, d1.Convenience, c=colors[d1.cluster], s=50)\n",
    "plt.scatter(centers.Grocery, centers.Convenience, linewidths=3, marker='+', s=300, c='black')\n",
    "plt.xlabel('Grocery')\n",
    "plt.ylabel('Convenience')\n",
    "plt.savefig(\"dbscan__array_food2.png\", format = \"PNG\")"
   ]
  },
  {
   "cell_type": "code",
   "execution_count": 15,
   "metadata": {
    "collapsed": true
   },
   "outputs": [],
   "source": [
    "unique_labels = np.unique(labels)\n",
    "colors = plt.cm.Spectral(np.linspace(0,1, len(unique_labels)))"
   ]
  },
  {
   "cell_type": "code",
   "execution_count": 16,
   "metadata": {},
   "outputs": [
    {
     "name": "stderr",
     "output_type": "stream",
     "text": [
      "C:\\Users\\kdsing2\\Anaconda3\\lib\\site-packages\\matplotlib\\lines.py:1206: FutureWarning: comparison to `None` will result in an elementwise object comparison in the future.\n",
      "  if self._markerfacecolor != fc:\n"
     ]
    },
    {
     "data": {
      "image/png": "[encoded data removed]",
      "text/plain": [
       "<matplotlib.figure.Figure at 0x1e322cc4f60>"
      ]
     },
     "metadata": {},
     "output_type": "display_data"
    }
   ],
   "source": [
    "for (label, color) in zip(unique_labels, colors):\n",
    "    class_member_mask = (labels == label)\n",
    "    xy = d1_transformed[class_member_mask & core_samples]\n",
    "    plt.plot(xy[:,0],xy[:,1], 'o', markerfacecolor = color, markersize = 10)\n",
    "    \n",
    "    xy2 = d1_transformed[class_member_mask & ~core_samples]\n",
    "    plt.plot(xy2[:,0],xy2[:,1], 'o', markerfacecolor = color, markersize = 5)\n",
    "\n",
    "plt.title(\"DBSCAN on Grocery & Convenience Store Data\")\n",
    "plt.xlabel(\"Grocery Store(scaled)\")\n",
    "plt.ylabel(\"Convenience(scaled)\")\n",
    "plt.savefig(\"dbscan_food2.png\", format = \"PNG\")"
   ]
  },
  {
   "cell_type": "code",
   "execution_count": 17,
   "metadata": {
    "collapsed": true
   },
   "outputs": [],
   "source": [
    "from sklearn.cluster import KMeans\n",
    "\n",
    "kmeans = KMeans(n_clusters = 2).fit(d1_transformed)\n",
    "labels_kmeans = kmeans.labels_\n",
    "centroids = kmeans.cluster_centers_"
   ]
  },
  {
   "cell_type": "code",
   "execution_count": 18,
   "metadata": {},
   "outputs": [
    {
     "data": {
      "image/png": "[encoded data removed]",
      "text/plain": [
       "<matplotlib.figure.Figure at 0x1e322cb8a90>"
      ]
     },
     "metadata": {},
     "output_type": "display_data"
    }
   ],
   "source": [
    "plt.scatter(d1_transformed[:,0], d1_transformed[:,1], c = labels_kmeans)\n",
    "plt.scatter(centroids[:,0], centroids[:,1], c = [\"gold\",\"blue\"], s = 60 )\n",
    "plt.savefig(\"kmeans_food3.png\", format = \"PNG\")"
   ]
  },
  {
   "cell_type": "code",
   "execution_count": 22,
   "metadata": {
    "collapsed": true
   },
   "outputs": [],
   "source": [
    "centers.to_excel('Clustering.xls')"
   ]
  },
  {
   "cell_type": "code",
   "execution_count": 21,
   "metadata": {},
   "outputs": [
    {
     "data": {
      "text/html": [
       "<div>\n",
       "<style>\n",
       "    .dataframe thead tr:only-child th {\n",
       "        text-align: right;\n",
       "    }\n",
       "\n",
       "    .dataframe thead th {\n",
       "        text-align: left;\n",
       "    }\n",
       "\n",
       "    .dataframe tbody tr th {\n",
       "        vertical-align: top;\n",
       "    }\n",
       "</style>\n",
       "<table border=\"1\" class=\"dataframe\">\n",
       "  <thead>\n",
       "    <tr style=\"text-align: right;\">\n",
       "      <th></th>\n",
       "      <th>Food &amp; Retail Tax 2014</th>\n",
       "      <th>Fast Food 2009</th>\n",
       "      <th>Fast Food 2014</th>\n",
       "      <th>Fast Food % Change 09-14</th>\n",
       "      <th>Full Service 2009</th>\n",
       "      <th>Full Service 2014</th>\n",
       "      <th>Full Service % Change 09-14</th>\n",
       "      <th>Grocery Store 09</th>\n",
       "      <th>Grocery Store 2014</th>\n",
       "      <th>Grocery</th>\n",
       "      <th>Supercenters &amp; Club Stores 2009</th>\n",
       "      <th>Supercenters &amp; Club Stores 2014</th>\n",
       "      <th>Supercenters &amp; Club Stores % Change 09-14</th>\n",
       "      <th>Convenience Stores 2009</th>\n",
       "      <th>Convenience Stores 2014</th>\n",
       "      <th>Convenience</th>\n",
       "      <th>Specialized Food Stores 2009</th>\n",
       "      <th>Specialized Food Stores 2014</th>\n",
       "      <th>Specialized Food Stores % Change 09-14</th>\n",
       "    </tr>\n",
       "    <tr>\n",
       "      <th>cluster</th>\n",
       "      <th></th>\n",
       "      <th></th>\n",
       "      <th></th>\n",
       "      <th></th>\n",
       "      <th></th>\n",
       "      <th></th>\n",
       "      <th></th>\n",
       "      <th></th>\n",
       "      <th></th>\n",
       "      <th></th>\n",
       "      <th></th>\n",
       "      <th></th>\n",
       "      <th></th>\n",
       "      <th></th>\n",
       "      <th></th>\n",
       "      <th></th>\n",
       "      <th></th>\n",
       "      <th></th>\n",
       "      <th></th>\n",
       "    </tr>\n",
       "  </thead>\n",
       "  <tbody>\n",
       "    <tr>\n",
       "      <th>-1</th>\n",
       "      <td>1.301157</td>\n",
       "      <td>4.842593</td>\n",
       "      <td>4.990741</td>\n",
       "      <td>1.585236</td>\n",
       "      <td>7.62963</td>\n",
       "      <td>7.629630</td>\n",
       "      <td>3.343707</td>\n",
       "      <td>2.157407</td>\n",
       "      <td>2.222222</td>\n",
       "      <td>11.055996</td>\n",
       "      <td>0.138889</td>\n",
       "      <td>0.157407</td>\n",
       "      <td>0.124120</td>\n",
       "      <td>4.722222</td>\n",
       "      <td>5.953704</td>\n",
       "      <td>53.004205</td>\n",
       "      <td>0.500000</td>\n",
       "      <td>0.574074</td>\n",
       "      <td>-2.486054</td>\n",
       "    </tr>\n",
       "    <tr>\n",
       "      <th>0</th>\n",
       "      <td>1.095534</td>\n",
       "      <td>69.269941</td>\n",
       "      <td>75.192815</td>\n",
       "      <td>5.744108</td>\n",
       "      <td>72.72973</td>\n",
       "      <td>78.494397</td>\n",
       "      <td>4.558408</td>\n",
       "      <td>20.890574</td>\n",
       "      <td>21.664799</td>\n",
       "      <td>-2.410289</td>\n",
       "      <td>1.472314</td>\n",
       "      <td>1.743573</td>\n",
       "      <td>6.936632</td>\n",
       "      <td>39.574160</td>\n",
       "      <td>40.946605</td>\n",
       "      <td>0.922084</td>\n",
       "      <td>7.873764</td>\n",
       "      <td>7.425511</td>\n",
       "      <td>-5.729663</td>\n",
       "    </tr>\n",
       "  </tbody>\n",
       "</table>\n",
       "</div>"
      ],
      "text/plain": [
       "         Food & Retail Tax 2014  Fast Food 2009  Fast Food 2014  \\\n",
       "cluster                                                           \n",
       "-1                     1.301157        4.842593        4.990741   \n",
       " 0                     1.095534       69.269941       75.192815   \n",
       "\n",
       "         Fast Food % Change 09-14  Full Service 2009  Full Service 2014  \\\n",
       "cluster                                                                   \n",
       "-1                       1.585236            7.62963           7.629630   \n",
       " 0                       5.744108           72.72973          78.494397   \n",
       "\n",
       "         Full Service % Change 09-14  Grocery Store 09  Grocery Store 2014  \\\n",
       "cluster                                                                      \n",
       "-1                          3.343707          2.157407            2.222222   \n",
       " 0                          4.558408         20.890574           21.664799   \n",
       "\n",
       "           Grocery  Supercenters & Club Stores 2009  \\\n",
       "cluster                                               \n",
       "-1       11.055996                         0.138889   \n",
       " 0       -2.410289                         1.472314   \n",
       "\n",
       "         Supercenters & Club Stores 2014  \\\n",
       "cluster                                    \n",
       "-1                              0.157407   \n",
       " 0                              1.743573   \n",
       "\n",
       "         Supercenters & Club Stores % Change 09-14  Convenience Stores 2009  \\\n",
       "cluster                                                                       \n",
       "-1                                        0.124120                 4.722222   \n",
       " 0                                        6.936632                39.574160   \n",
       "\n",
       "         Convenience Stores 2014  Convenience  Specialized Food Stores 2009  \\\n",
       "cluster                                                                       \n",
       "-1                      5.953704    53.004205                      0.500000   \n",
       " 0                     40.946605     0.922084                      7.873764   \n",
       "\n",
       "         Specialized Food Stores 2014  Specialized Food Stores % Change 09-14  \n",
       "cluster                                                                        \n",
       "-1                           0.574074                               -2.486054  \n",
       " 0                           7.425511                               -5.729663  "
      ]
     },
     "execution_count": 21,
     "metadata": {},
     "output_type": "execute_result"
    }
   ],
   "source": [
    "centers"
   ]
  },
  {
   "cell_type": "code",
   "execution_count": null,
   "metadata": {
    "collapsed": true
   },
   "outputs": [],
   "source": []
  },
  {
   "cell_type": "code",
   "execution_count": null,
   "metadata": {
    "collapsed": true
   },
   "outputs": [],
   "source": []
  },
  {
   "cell_type": "code",
   "execution_count": null,
   "metadata": {
    "collapsed": true
   },
   "outputs": [],
   "source": []
  },
  {
   "cell_type": "code",
   "execution_count": null,
   "metadata": {
    "collapsed": true
   },
   "outputs": [],
   "source": []
  },
  {
   "cell_type": "code",
   "execution_count": null,
   "metadata": {
    "collapsed": true
   },
   "outputs": [],
   "source": []
  },
  {
   "cell_type": "code",
   "execution_count": null,
   "metadata": {
    "collapsed": true
   },
   "outputs": [],
   "source": []
  },
  {
   "cell_type": "code",
   "execution_count": null,
   "metadata": {
    "collapsed": true
   },
   "outputs": [],
   "source": []
  },
  {
   "cell_type": "code",
   "execution_count": null,
   "metadata": {
    "collapsed": true
   },
   "outputs": [],
   "source": []
  },
  {
   "cell_type": "code",
   "execution_count": null,
   "metadata": {
    "collapsed": true
   },
   "outputs": [],
   "source": []
  },
  {
   "cell_type": "code",
   "execution_count": null,
   "metadata": {
    "collapsed": true
   },
   "outputs": [],
   "source": []
  },
  {
   "cell_type": "code",
   "execution_count": null,
   "metadata": {
    "collapsed": true
   },
   "outputs": [],
   "source": []
  },
  {
   "cell_type": "code",
   "execution_count": null,
   "metadata": {
    "collapsed": true
   },
   "outputs": [],
   "source": []
  }
 ],
 "metadata": {
  "kernelspec": {
   "display_name": "Python 3",
   "language": "python",
   "name": "python3"
  },
  "language_info": {
   "codemirror_mode": {
    "name": "ipython",
    "version": 3
   },
   "file_extension": ".py",
   "mimetype": "text/x-python",
   "name": "python",
   "nbconvert_exporter": "python",
   "pygments_lexer": "ipython3",
   "version": "3.6.1"
  }
 },
 "nbformat": 4,
 "nbformat_minor": 2
}
