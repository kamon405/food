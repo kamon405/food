{
 "cells": [
  {
   "cell_type": "code",
   "execution_count": 1,
   "metadata": {
    "collapsed": true
   },
   "outputs": [],
   "source": [
    "%matplotlib inline\n",
    "import matplotlib.pyplot as plt\n",
    "import numpy as np\n",
    "import pandas as pd\n",
    "from scipy.spatial.distance import cdist\n",
    "import seaborn as sns\n",
    "sns.set()"
   ]
  },
  {
   "cell_type": "code",
   "execution_count": 2,
   "metadata": {
    "collapsed": true
   },
   "outputs": [],
   "source": []
  },
  {
   "cell_type": "code",
   "execution_count": 4,
   "metadata": {
    "collapsed": true
   },
   "outputs": [],
   "source": [
    "from sklearn.cluster import DBSCAN\n",
    "import pandas as pd\n",
    "\n",
    "d1 = pd.read_excel('final1.xls')\n"
   ]
  },
  {
   "cell_type": "code",
   "execution_count": 5,
   "metadata": {},
   "outputs": [
    {
     "data": {
      "text/plain": [
       "(3142, 23)"
      ]
     },
     "execution_count": 5,
     "metadata": {},
     "output_type": "execute_result"
    }
   ],
   "source": [
    "d1.shape"
   ]
  },
  {
   "cell_type": "code",
   "execution_count": 7,
   "metadata": {},
   "outputs": [
    {
     "data": {
      "text/plain": [
       "State                                         object\n",
       "County                                        object\n",
       "2010 Census Population                        object\n",
       "Population Estimate, 2014                     object\n",
       "Food & Retail Tax 2014                       float64\n",
       "Fast Food 2009                                 int64\n",
       "Fast Food 2014                                 int64\n",
       "Fast Food % Change 09-14                     float64\n",
       "Full Service 2009                              int64\n",
       "Full Service 2014                              int64\n",
       "Full Service % Change 09-14                  float64\n",
       "Grocery Store 09                               int64\n",
       "Grocery Store 2014                             int64\n",
       "Grocery Store % Change 09-14                 float64\n",
       "Supercenters & Club Stores 2009                int64\n",
       "Supercenters & Club Stores 2014                int64\n",
       "Supercenters & Club Stores % Change 09-14    float64\n",
       "Convenience Stores 2009                        int64\n",
       "Convenience Stores 2014                        int64\n",
       "Convenience Stores % Change 09-14            float64\n",
       "Specialized Food Stores 2009                   int64\n",
       "Specialized Food Stores 2014                   int64\n",
       "Specialized Food Stores % Change 09-14       float64\n",
       "dtype: object"
      ]
     },
     "execution_count": 7,
     "metadata": {},
     "output_type": "execute_result"
    }
   ],
   "source": [
    "d1.dtypes"
   ]
  },
  {
   "cell_type": "code",
   "execution_count": null,
   "metadata": {},
   "outputs": [],
   "source": []
  },
  {
   "cell_type": "code",
   "execution_count": 41,
   "metadata": {},
   "outputs": [],
   "source": [
    "d1_selected = d1[[\"Fast Food % Change 09-14\", \"Grocery Store % Change 09-14\"]]\n"
   ]
  },
  {
   "cell_type": "code",
   "execution_count": 42,
   "metadata": {},
   "outputs": [
    {
     "data": {
      "text/html": [
       "<div>\n",
       "<style>\n",
       "    .dataframe thead tr:only-child th {\n",
       "        text-align: right;\n",
       "    }\n",
       "\n",
       "    .dataframe thead th {\n",
       "        text-align: left;\n",
       "    }\n",
       "\n",
       "    .dataframe tbody tr th {\n",
       "        vertical-align: top;\n",
       "    }\n",
       "</style>\n",
       "<table border=\"1\" class=\"dataframe\">\n",
       "  <thead>\n",
       "    <tr style=\"text-align: right;\">\n",
       "      <th></th>\n",
       "      <th>Fast Food % Change 09-14</th>\n",
       "      <th>Grocery Store % Change 09-14</th>\n",
       "    </tr>\n",
       "  </thead>\n",
       "  <tbody>\n",
       "    <tr>\n",
       "      <th>0</th>\n",
       "      <td>20.000000</td>\n",
       "      <td>-33.333333</td>\n",
       "    </tr>\n",
       "    <tr>\n",
       "      <th>1</th>\n",
       "      <td>17.857143</td>\n",
       "      <td>20.833333</td>\n",
       "    </tr>\n",
       "    <tr>\n",
       "      <th>2</th>\n",
       "      <td>4.761905</td>\n",
       "      <td>0.000000</td>\n",
       "    </tr>\n",
       "    <tr>\n",
       "      <th>3</th>\n",
       "      <td>-28.571429</td>\n",
       "      <td>-16.666667</td>\n",
       "    </tr>\n",
       "    <tr>\n",
       "      <th>4</th>\n",
       "      <td>-12.500000</td>\n",
       "      <td>0.000000</td>\n",
       "    </tr>\n",
       "    <tr>\n",
       "      <th>5</th>\n",
       "      <td>-25.000000</td>\n",
       "      <td>0.000000</td>\n",
       "    </tr>\n",
       "    <tr>\n",
       "      <th>6</th>\n",
       "      <td>0.000000</td>\n",
       "      <td>0.000000</td>\n",
       "    </tr>\n",
       "    <tr>\n",
       "      <th>7</th>\n",
       "      <td>8.421053</td>\n",
       "      <td>8.000000</td>\n",
       "    </tr>\n",
       "    <tr>\n",
       "      <th>8</th>\n",
       "      <td>18.181818</td>\n",
       "      <td>0.000000</td>\n",
       "    </tr>\n",
       "    <tr>\n",
       "      <th>9</th>\n",
       "      <td>-6.250000</td>\n",
       "      <td>25.000000</td>\n",
       "    </tr>\n",
       "  </tbody>\n",
       "</table>\n",
       "</div>"
      ],
      "text/plain": [
       "   Fast Food % Change 09-14  Grocery Store % Change 09-14\n",
       "0                 20.000000                    -33.333333\n",
       "1                 17.857143                     20.833333\n",
       "2                  4.761905                      0.000000\n",
       "3                -28.571429                    -16.666667\n",
       "4                -12.500000                      0.000000\n",
       "5                -25.000000                      0.000000\n",
       "6                  0.000000                      0.000000\n",
       "7                  8.421053                      8.000000\n",
       "8                 18.181818                      0.000000\n",
       "9                 -6.250000                     25.000000"
      ]
     },
     "execution_count": 42,
     "metadata": {},
     "output_type": "execute_result"
    }
   ],
   "source": [
    "d1_selected[:10]"
   ]
  },
  {
   "cell_type": "code",
   "execution_count": 43,
   "metadata": {},
   "outputs": [],
   "source": [
    "from sklearn.preprocessing import StandardScaler\n",
    "\n",
    "stdscaler = StandardScaler().fit(d1_selected)\n",
    "d1_transformed = stdscaler.transform(d1_selected)"
   ]
  },
  {
   "cell_type": "code",
   "execution_count": 44,
   "metadata": {},
   "outputs": [
    {
     "data": {
      "image/png": "[encoded data removed]",
      "text/plain": [
       "<matplotlib.figure.Figure at 0x1d1d5fe2908>"
      ]
     },
     "metadata": {},
     "output_type": "display_data"
    }
   ],
   "source": [
    "plt.scatter(d1_transformed[:,0], d1_transformed[:,1])\n",
    "plt.xlabel(\"Grocery Store % Change 09-14\")\n",
    "plt.ylabel(\"Fast Food % Change 09-14\")\n",
    "plt.title(\"Grocery Store % Change compared to Fast Food\")\n",
    "plt.savefig(\"food3.png\", format = \"PNG\")"
   ]
  },
  {
   "cell_type": "code",
   "execution_count": 45,
   "metadata": {
    "collapsed": true
   },
   "outputs": [],
   "source": [
    "dbsc = DBSCAN(eps = .5, min_samples = 15).fit(d1_transformed)"
   ]
  },
  {
   "cell_type": "code",
   "execution_count": 46,
   "metadata": {
    "collapsed": true
   },
   "outputs": [],
   "source": [
    "labels = dbsc.labels_\n",
    "\n",
    "core_samples = np.zeros_like(labels, dtype = bool)"
   ]
  },
  {
   "cell_type": "code",
   "execution_count": 47,
   "metadata": {},
   "outputs": [
    {
     "data": {
      "text/plain": [
       "array([-1,  0,  1,  2,  3,  4], dtype=int64)"
      ]
     },
     "execution_count": 47,
     "metadata": {},
     "output_type": "execute_result"
    }
   ],
   "source": [
    "unique_labels = np.unique(labels)\n",
    "unique_labels"
   ]
  },
  {
   "cell_type": "code",
   "execution_count": 59,
   "metadata": {},
   "outputs": [
    {
     "data": {
      "text/html": [
       "<div>\n",
       "<style>\n",
       "    .dataframe thead tr:only-child th {\n",
       "        text-align: right;\n",
       "    }\n",
       "\n",
       "    .dataframe thead th {\n",
       "        text-align: left;\n",
       "    }\n",
       "\n",
       "    .dataframe tbody tr th {\n",
       "        vertical-align: top;\n",
       "    }\n",
       "</style>\n",
       "<table border=\"1\" class=\"dataframe\">\n",
       "  <thead>\n",
       "    <tr style=\"text-align: right;\">\n",
       "      <th></th>\n",
       "      <th>Food &amp; Retail Tax 2014</th>\n",
       "      <th>Fast Food 2009</th>\n",
       "      <th>Fast Food 2014</th>\n",
       "      <th>Fast Food % Change 09-14</th>\n",
       "      <th>Full Service 2009</th>\n",
       "      <th>Full Service 2014</th>\n",
       "      <th>Full Service % Change 09-14</th>\n",
       "      <th>Grocery Store 09</th>\n",
       "      <th>Grocery Store 2014</th>\n",
       "      <th>Grocery Store % Change 09-14</th>\n",
       "      <th>Supercenters &amp; Club Stores 2009</th>\n",
       "      <th>Supercenters &amp; Club Stores 2014</th>\n",
       "      <th>Supercenters &amp; Club Stores % Change 09-14</th>\n",
       "      <th>Convenience Stores 2009</th>\n",
       "      <th>Convenience Stores 2014</th>\n",
       "      <th>Convenience Stores % Change 09-14</th>\n",
       "      <th>Specialized Food Stores 2009</th>\n",
       "      <th>Specialized Food Stores 2014</th>\n",
       "      <th>Specialized Food Stores % Change 09-14</th>\n",
       "    </tr>\n",
       "    <tr>\n",
       "      <th>cluster</th>\n",
       "      <th></th>\n",
       "      <th></th>\n",
       "      <th></th>\n",
       "      <th></th>\n",
       "      <th></th>\n",
       "      <th></th>\n",
       "      <th></th>\n",
       "      <th></th>\n",
       "      <th></th>\n",
       "      <th></th>\n",
       "      <th></th>\n",
       "      <th></th>\n",
       "      <th></th>\n",
       "      <th></th>\n",
       "      <th></th>\n",
       "      <th></th>\n",
       "      <th></th>\n",
       "      <th></th>\n",
       "      <th></th>\n",
       "    </tr>\n",
       "  </thead>\n",
       "  <tbody>\n",
       "    <tr>\n",
       "      <th>-1</th>\n",
       "      <td>1.441055</td>\n",
       "      <td>4.119266</td>\n",
       "      <td>5.201835</td>\n",
       "      <td>37.269257</td>\n",
       "      <td>7.486239</td>\n",
       "      <td>7.660550</td>\n",
       "      <td>7.264213</td>\n",
       "      <td>2.064220</td>\n",
       "      <td>2.339450</td>\n",
       "      <td>22.278287</td>\n",
       "      <td>0.110092</td>\n",
       "      <td>0.155963</td>\n",
       "      <td>2.875275</td>\n",
       "      <td>7.055046</td>\n",
       "      <td>6.853211</td>\n",
       "      <td>6.797585</td>\n",
       "      <td>0.504587</td>\n",
       "      <td>0.495413</td>\n",
       "      <td>-6.106338</td>\n",
       "    </tr>\n",
       "    <tr>\n",
       "      <th>0</th>\n",
       "      <td>1.055781</td>\n",
       "      <td>72.598477</td>\n",
       "      <td>78.752510</td>\n",
       "      <td>3.777421</td>\n",
       "      <td>76.087574</td>\n",
       "      <td>82.131533</td>\n",
       "      <td>4.135414</td>\n",
       "      <td>21.844583</td>\n",
       "      <td>22.626861</td>\n",
       "      <td>-4.421228</td>\n",
       "      <td>1.542402</td>\n",
       "      <td>1.825545</td>\n",
       "      <td>7.161315</td>\n",
       "      <td>41.189685</td>\n",
       "      <td>42.690897</td>\n",
       "      <td>2.552444</td>\n",
       "      <td>8.252336</td>\n",
       "      <td>7.788854</td>\n",
       "      <td>-5.345017</td>\n",
       "    </tr>\n",
       "    <tr>\n",
       "      <th>1</th>\n",
       "      <td>1.742568</td>\n",
       "      <td>1.405405</td>\n",
       "      <td>0.000000</td>\n",
       "      <td>-100.000000</td>\n",
       "      <td>3.486486</td>\n",
       "      <td>3.243243</td>\n",
       "      <td>1.653410</td>\n",
       "      <td>1.486486</td>\n",
       "      <td>1.540541</td>\n",
       "      <td>-0.105266</td>\n",
       "      <td>0.000000</td>\n",
       "      <td>0.000000</td>\n",
       "      <td>0.000000</td>\n",
       "      <td>2.594595</td>\n",
       "      <td>2.675676</td>\n",
       "      <td>7.051373</td>\n",
       "      <td>0.216216</td>\n",
       "      <td>0.135135</td>\n",
       "      <td>-9.611302</td>\n",
       "    </tr>\n",
       "    <tr>\n",
       "      <th>2</th>\n",
       "      <td>1.935795</td>\n",
       "      <td>1.863636</td>\n",
       "      <td>3.727273</td>\n",
       "      <td>100.000000</td>\n",
       "      <td>4.750000</td>\n",
       "      <td>4.522727</td>\n",
       "      <td>11.301082</td>\n",
       "      <td>2.250000</td>\n",
       "      <td>2.363636</td>\n",
       "      <td>2.607256</td>\n",
       "      <td>0.045455</td>\n",
       "      <td>0.045455</td>\n",
       "      <td>0.000000</td>\n",
       "      <td>4.863636</td>\n",
       "      <td>5.113636</td>\n",
       "      <td>7.610818</td>\n",
       "      <td>0.227273</td>\n",
       "      <td>0.136364</td>\n",
       "      <td>-7.954545</td>\n",
       "    </tr>\n",
       "    <tr>\n",
       "      <th>3</th>\n",
       "      <td>1.429688</td>\n",
       "      <td>1.812500</td>\n",
       "      <td>3.625000</td>\n",
       "      <td>100.000000</td>\n",
       "      <td>4.750000</td>\n",
       "      <td>5.000000</td>\n",
       "      <td>11.882440</td>\n",
       "      <td>3.187500</td>\n",
       "      <td>2.125000</td>\n",
       "      <td>-36.562500</td>\n",
       "      <td>0.125000</td>\n",
       "      <td>0.125000</td>\n",
       "      <td>0.000000</td>\n",
       "      <td>4.875000</td>\n",
       "      <td>4.562500</td>\n",
       "      <td>4.496528</td>\n",
       "      <td>0.375000</td>\n",
       "      <td>0.375000</td>\n",
       "      <td>-4.868938</td>\n",
       "    </tr>\n",
       "    <tr>\n",
       "      <th>4</th>\n",
       "      <td>1.800532</td>\n",
       "      <td>7.212766</td>\n",
       "      <td>7.851064</td>\n",
       "      <td>6.883203</td>\n",
       "      <td>9.340426</td>\n",
       "      <td>9.872340</td>\n",
       "      <td>14.973957</td>\n",
       "      <td>1.617021</td>\n",
       "      <td>3.234043</td>\n",
       "      <td>100.000000</td>\n",
       "      <td>0.212766</td>\n",
       "      <td>0.255319</td>\n",
       "      <td>1.206435</td>\n",
       "      <td>9.021277</td>\n",
       "      <td>8.446809</td>\n",
       "      <td>-5.544922</td>\n",
       "      <td>0.489362</td>\n",
       "      <td>0.382979</td>\n",
       "      <td>-16.200515</td>\n",
       "    </tr>\n",
       "  </tbody>\n",
       "</table>\n",
       "</div>"
      ],
      "text/plain": [
       "         Food & Retail Tax 2014  Fast Food 2009  Fast Food 2014  \\\n",
       "cluster                                                           \n",
       "-1                     1.441055        4.119266        5.201835   \n",
       " 0                     1.055781       72.598477       78.752510   \n",
       " 1                     1.742568        1.405405        0.000000   \n",
       " 2                     1.935795        1.863636        3.727273   \n",
       " 3                     1.429688        1.812500        3.625000   \n",
       " 4                     1.800532        7.212766        7.851064   \n",
       "\n",
       "         Fast Food % Change 09-14  Full Service 2009  Full Service 2014  \\\n",
       "cluster                                                                   \n",
       "-1                      37.269257           7.486239           7.660550   \n",
       " 0                       3.777421          76.087574          82.131533   \n",
       " 1                    -100.000000           3.486486           3.243243   \n",
       " 2                     100.000000           4.750000           4.522727   \n",
       " 3                     100.000000           4.750000           5.000000   \n",
       " 4                       6.883203           9.340426           9.872340   \n",
       "\n",
       "         Full Service % Change 09-14  Grocery Store 09  Grocery Store 2014  \\\n",
       "cluster                                                                      \n",
       "-1                          7.264213          2.064220            2.339450   \n",
       " 0                          4.135414         21.844583           22.626861   \n",
       " 1                          1.653410          1.486486            1.540541   \n",
       " 2                         11.301082          2.250000            2.363636   \n",
       " 3                         11.882440          3.187500            2.125000   \n",
       " 4                         14.973957          1.617021            3.234043   \n",
       "\n",
       "         Grocery Store % Change 09-14  Supercenters & Club Stores 2009  \\\n",
       "cluster                                                                  \n",
       "-1                          22.278287                         0.110092   \n",
       " 0                          -4.421228                         1.542402   \n",
       " 1                          -0.105266                         0.000000   \n",
       " 2                           2.607256                         0.045455   \n",
       " 3                         -36.562500                         0.125000   \n",
       " 4                         100.000000                         0.212766   \n",
       "\n",
       "         Supercenters & Club Stores 2014  \\\n",
       "cluster                                    \n",
       "-1                              0.155963   \n",
       " 0                              1.825545   \n",
       " 1                              0.000000   \n",
       " 2                              0.045455   \n",
       " 3                              0.125000   \n",
       " 4                              0.255319   \n",
       "\n",
       "         Supercenters & Club Stores % Change 09-14  Convenience Stores 2009  \\\n",
       "cluster                                                                       \n",
       "-1                                        2.875275                 7.055046   \n",
       " 0                                        7.161315                41.189685   \n",
       " 1                                        0.000000                 2.594595   \n",
       " 2                                        0.000000                 4.863636   \n",
       " 3                                        0.000000                 4.875000   \n",
       " 4                                        1.206435                 9.021277   \n",
       "\n",
       "         Convenience Stores 2014  Convenience Stores % Change 09-14  \\\n",
       "cluster                                                               \n",
       "-1                      6.853211                           6.797585   \n",
       " 0                     42.690897                           2.552444   \n",
       " 1                      2.675676                           7.051373   \n",
       " 2                      5.113636                           7.610818   \n",
       " 3                      4.562500                           4.496528   \n",
       " 4                      8.446809                          -5.544922   \n",
       "\n",
       "         Specialized Food Stores 2009  Specialized Food Stores 2014  \\\n",
       "cluster                                                               \n",
       "-1                           0.504587                      0.495413   \n",
       " 0                           8.252336                      7.788854   \n",
       " 1                           0.216216                      0.135135   \n",
       " 2                           0.227273                      0.136364   \n",
       " 3                           0.375000                      0.375000   \n",
       " 4                           0.489362                      0.382979   \n",
       "\n",
       "         Specialized Food Stores % Change 09-14  \n",
       "cluster                                          \n",
       "-1                                    -6.106338  \n",
       " 0                                    -5.345017  \n",
       " 1                                    -9.611302  \n",
       " 2                                    -7.954545  \n",
       " 3                                    -4.868938  \n",
       " 4                                   -16.200515  "
      ]
     },
     "execution_count": 59,
     "metadata": {},
     "output_type": "execute_result"
    }
   ],
   "source": [
    "d1['cluster'] = labels\n",
    "d1.sort_values('cluster')\n",
    "d1.groupby('cluster').mean()"
   ]
  },
  {
   "cell_type": "code",
   "execution_count": 60,
   "metadata": {
    "collapsed": true
   },
   "outputs": [],
   "source": [
    "unique_labels = np.unique(labels)\n",
    "colors = plt.cm.Spectral(np.linspace(0,1, len(unique_labels)))"
   ]
  },
  {
   "cell_type": "code",
   "execution_count": 61,
   "metadata": {},
   "outputs": [
    {
     "name": "stderr",
     "output_type": "stream",
     "text": [
      "C:\\Users\\kdsing2\\Anaconda3\\lib\\site-packages\\matplotlib\\lines.py:1206: FutureWarning: comparison to `None` will result in an elementwise object comparison in the future.\n",
      "  if self._markerfacecolor != fc:\n"
     ]
    },
    {
     "data": {
      "image/png": "[encoded data removed]",
      "text/plain": [
       "<matplotlib.figure.Figure at 0x1d1d3f1e630>"
      ]
     },
     "metadata": {},
     "output_type": "display_data"
    }
   ],
   "source": [
    "for (label, color) in zip(unique_labels, colors):\n",
    "    class_member_mask = (labels == label)\n",
    "    xy = d1_transformed[class_member_mask & core_samples]\n",
    "    plt.plot(xy[:,0],xy[:,1], 'o', markerfacecolor = color, markersize = 10)\n",
    "    \n",
    "    xy2 = d1_transformed[class_member_mask & ~core_samples]\n",
    "    plt.plot(xy2[:,0],xy2[:,1], 'o', markerfacecolor = color, markersize = 5)\n",
    "\n",
    "plt.title(\"DBSCAN on Grocery & Fast Food data\")\n",
    "plt.xlabel(\"Grocery Store % Change 09-14(scaled)\")\n",
    "plt.ylabel(\"Fast Food % Change 09-14(scaled)\")\n",
    "plt.savefig(\"dbscan_food.png\", format = \"PNG\")"
   ]
  },
  {
   "cell_type": "code",
   "execution_count": 62,
   "metadata": {
    "collapsed": true
   },
   "outputs": [],
   "source": [
    "from sklearn.cluster import KMeans\n",
    "\n",
    "kmeans = KMeans(n_clusters = 2).fit(d1_transformed)\n",
    "labels_kmeans = kmeans.labels_\n",
    "centroids = kmeans.cluster_centers_"
   ]
  },
  {
   "cell_type": "code",
   "execution_count": 63,
   "metadata": {},
   "outputs": [
    {
     "data": {
      "image/png": "[encoded data removed]",
      "text/plain": [
       "<matplotlib.figure.Figure at 0x1d1d56b5550>"
      ]
     },
     "metadata": {},
     "output_type": "display_data"
    }
   ],
   "source": [
    "plt.scatter(d1_transformed[:,0], d1_transformed[:,1], c = labels_kmeans)\n",
    "plt.scatter(centroids[:,0], centroids[:,1], c = [\"gold\",\"blue\"], s = 60 )\n",
    "plt.savefig(\"kmeans_food.png\", format = \"PNG\")"
   ]
  },
  {
   "cell_type": "code",
   "execution_count": null,
   "metadata": {
    "collapsed": true
   },
   "outputs": [],
   "source": []
  },
  {
   "cell_type": "code",
   "execution_count": null,
   "metadata": {},
   "outputs": [],
   "source": []
  },
  {
   "cell_type": "code",
   "execution_count": null,
   "metadata": {},
   "outputs": [],
   "source": []
  },
  {
   "cell_type": "code",
   "execution_count": null,
   "metadata": {},
   "outputs": [],
   "source": []
  },
  {
   "cell_type": "code",
   "execution_count": null,
   "metadata": {},
   "outputs": [],
   "source": []
  },
  {
   "cell_type": "code",
   "execution_count": null,
   "metadata": {
    "collapsed": true
   },
   "outputs": [],
   "source": []
  },
  {
   "cell_type": "code",
   "execution_count": null,
   "metadata": {
    "collapsed": true
   },
   "outputs": [],
   "source": []
  },
  {
   "cell_type": "code",
   "execution_count": null,
   "metadata": {
    "collapsed": true
   },
   "outputs": [],
   "source": []
  },
  {
   "cell_type": "code",
   "execution_count": null,
   "metadata": {
    "collapsed": true
   },
   "outputs": [],
   "source": []
  },
  {
   "cell_type": "code",
   "execution_count": null,
   "metadata": {
    "collapsed": true
   },
   "outputs": [],
   "source": []
  },
  {
   "cell_type": "code",
   "execution_count": null,
   "metadata": {
    "collapsed": true
   },
   "outputs": [],
   "source": []
  },
  {
   "cell_type": "code",
   "execution_count": null,
   "metadata": {
    "collapsed": true
   },
   "outputs": [],
   "source": []
  },
  {
   "cell_type": "code",
   "execution_count": null,
   "metadata": {
    "collapsed": true
   },
   "outputs": [],
   "source": []
  },
  {
   "cell_type": "code",
   "execution_count": null,
   "metadata": {
    "collapsed": true
   },
   "outputs": [],
   "source": []
  }
 ],
 "metadata": {
  "kernelspec": {
   "display_name": "Python 3",
   "language": "python",
   "name": "python3"
  },
  "language_info": {
   "codemirror_mode": {
    "name": "ipython",
    "version": 3
   },
   "file_extension": ".py",
   "mimetype": "text/x-python",
   "name": "python",
   "nbconvert_exporter": "python",
   "pygments_lexer": "ipython3",
   "version": "3.6.1"
  }
 },
 "nbformat": 4,
 "nbformat_minor": 2
}
